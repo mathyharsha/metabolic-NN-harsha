{
 "cells": [
  {
   "cell_type": "code",
   "execution_count": 1,
   "id": "77c4b21e",
   "metadata": {},
   "outputs": [],
   "source": [
    "# Difference to v02: all exhange outputs\n",
    "\n",
    "import pandas as pd\n",
    "import torch\n",
    "import torch.nn as nn\n",
    "import torch.optim as optim\n",
    "from sklearn.model_selection import train_test_split, KFold\n",
    "from sklearn.preprocessing import StandardScaler\n",
    "from sklearn.metrics import r2_score\n",
    "import numpy as np\n",
    "import matplotlib.pyplot as plt\n",
    "import os\n",
    "import seaborn as sns\n",
    "from datetime import date\n",
    "\n",
    "datafile = \"./data/2025-06-23_training_data_49755_samples.csv\""
   ]
  },
  {
   "cell_type": "code",
   "execution_count": 65,
   "id": "db6e38d2",
   "metadata": {},
   "outputs": [],
   "source": [
    "from ipywidgets import interact, interactive, fixed, interact_manual\n",
    "import ipywidgets as widgets"
   ]
  },
  {
   "cell_type": "code",
   "execution_count": 3,
   "id": "de26cd50",
   "metadata": {},
   "outputs": [],
   "source": [
    "# Data loader\n",
    "\n",
    "def load_and_preprocess_data(filename):\n",
    "    \"\"\"Load and preprocess the training data\"\"\"\n",
    "    input_cols = [\n",
    "        'EX_glc__D_e', 'EX_fru_e', 'EX_lac__D_e', 'EX_pyr_e', 'EX_ac_e',\n",
    "        'EX_akg_e', 'EX_succ_e', 'EX_fum_e', 'EX_mal__L_e', 'EX_etoh_e',\n",
    "        'EX_acald_e', 'EX_for_e', 'EX_gln__L_e', 'EX_glu__L_e',\n",
    "        'EX_co2_e', 'EX_h_e', 'EX_h2o_e', 'EX_nh4_e', 'EX_o2_e', 'EX_pi_e'\n",
    "    ]\n",
    "\n",
    "    output_cols = [\n",
    "        'EX_co2_e_flux', 'EX_h_e_flux', 'EX_h2o_e_flux',\n",
    "        'EX_nh4_e_flux', 'EX_o2_e_flux', 'EX_pi_e_flux',\n",
    "        'Biomass_Ecoli_core_flux'\n",
    "    ]\n",
    "    df = pd.read_csv(filename)\n",
    "\n",
    "    # Fill missing inputs with 0 (i.e., not uptaken)\n",
    "    df[input_cols] = df[input_cols].fillna(0)\n",
    "    print(f\"\\nLoaded data with {len(df)} samples from {filename}\")\n",
    "\n",
    "    X = df[input_cols].values.astype(np.float32)\n",
    "    y = df[output_cols].values.astype(np.float32)\n",
    "\n",
    "    return X, y, input_cols"
   ]
  },
  {
   "cell_type": "code",
   "execution_count": 4,
   "id": "5f713f76",
   "metadata": {},
   "outputs": [
    {
     "name": "stdout",
     "output_type": "stream",
     "text": [
      "\n",
      "Loaded data with 49755 samples from ./data/2025-06-23_training_data_49755_samples.csv\n"
     ]
    }
   ],
   "source": [
    "X, y, input_cols = load_and_preprocess_data(datafile)\n",
    "X_train, X_test, y_train, y_test = train_test_split(\n",
    "    X, y, test_size=0.2, random_state=42\n",
    ")"
   ]
  },
  {
   "cell_type": "code",
   "execution_count": 63,
   "id": "1774be01",
   "metadata": {},
   "outputs": [
    {
     "data": {
      "text/plain": [
       "((49755, 20), (49755, 7), (39804, 20), (39804, 7), (9951, 20), (9951, 7))"
      ]
     },
     "execution_count": 63,
     "metadata": {},
     "output_type": "execute_result"
    }
   ],
   "source": [
    "X.shape, y.shape, X_train.shape, y_train.shape, X_test.shape, y_test.shape"
   ]
  },
  {
   "cell_type": "code",
   "execution_count": 69,
   "id": "ee5bca9d",
   "metadata": {},
   "outputs": [
    {
     "data": {
      "application/vnd.jupyter.widget-view+json": {
       "model_id": "b7133d4cee5740e699cc8f4c8b6c2201",
       "version_major": 2,
       "version_minor": 0
      },
      "text/plain": [
       "interactive(children=(FloatSlider(value=0.0, description='m', max=2.0, min=-2.0), FloatSlider(value=0.0, descr…"
      ]
     },
     "metadata": {},
     "output_type": "display_data"
    }
   ],
   "source": [
    "%matplotlib inline\n",
    "from ipywidgets import interactive\n",
    "import matplotlib.pyplot as plt\n",
    "import numpy as np\n",
    "\n",
    "def f(m, b):\n",
    "    plt.figure(2)\n",
    "    x = np.linspace(-10, 10, num=1000)\n",
    "    plt.plot(x, m * x + b)\n",
    "    plt.ylim(-5, 5)\n",
    "    plt.show()\n",
    "\n",
    "interactive_plot = interactive(f, m=(-2.0, 2.0), b=(-3, 3, 0.5))\n",
    "output = interactive_plot.children[-1]\n",
    "# output.layout.height = '200px'\n",
    "interactive_plot"
   ]
  },
  {
   "cell_type": "code",
   "execution_count": 94,
   "id": "667585d0",
   "metadata": {},
   "outputs": [],
   "source": [
    "def plot_data(n):\n",
    "    plt.figure(figsize=(5, 5))\n",
    "    plt.stem(np.array(range(1,21)), X[n, :])\n",
    "    plt.xticks(np.arange(1, 21))\n",
    "    plt.title(f\"Simulation Number {n}\")\n",
    "    plt.grid()\n",
    "    plt.show()"
   ]
  },
  {
   "cell_type": "code",
   "execution_count": 95,
   "id": "0ec2a731",
   "metadata": {},
   "outputs": [
    {
     "data": {
      "application/vnd.jupyter.widget-view+json": {
       "model_id": "2b28efa6a32a4a0f9e26a81ee66bd954",
       "version_major": 2,
       "version_minor": 0
      },
      "text/plain": [
       "interactive(children=(IntSlider(value=24877, description='n', max=49754), Output()), _dom_classes=('widget-int…"
      ]
     },
     "metadata": {},
     "output_type": "display_data"
    }
   ],
   "source": [
    "interactive_plot = interactive(plot_data, n=(0, X.shape[0] - 1))\n",
    "output = interactive_plot.children[-1]\n",
    "interactive_plot"
   ]
  },
  {
   "cell_type": "code",
   "execution_count": null,
   "id": "cc245366",
   "metadata": {},
   "outputs": [],
   "source": []
  }
 ],
 "metadata": {
  "kernelspec": {
   "display_name": "biocomp-NN-nightly",
   "language": "python",
   "name": "python3"
  },
  "language_info": {
   "codemirror_mode": {
    "name": "ipython",
    "version": 3
   },
   "file_extension": ".py",
   "mimetype": "text/x-python",
   "name": "python",
   "nbconvert_exporter": "python",
   "pygments_lexer": "ipython3",
   "version": "3.13.1"
  }
 },
 "nbformat": 4,
 "nbformat_minor": 5
}
