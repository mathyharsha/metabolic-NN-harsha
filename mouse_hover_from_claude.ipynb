{
 "cells": [
  {
   "cell_type": "code",
   "execution_count": 1,
   "metadata": {},
   "outputs": [
    {
     "name": "stdout",
     "output_type": "stream",
     "text": [
      "\n",
      "==================================================\n",
      "BONUS: Here's also a Plotly version for enhanced interactivity\n",
      "==================================================\n"
     ]
    },
    {
     "data": {
      "application/vnd.plotly.v1+json": {
       "config": {
        "plotlyServerURL": "https://plot.ly"
       },
       "data": [
        {
         "hovertemplate": "%{text}<extra></extra>",
         "marker": {
          "color": [
           8336817,
           3979576,
           2693976,
           2320268,
           1680992,
           1584064,
           1547253,
           1423851,
           1343573,
           1021795,
           978908,
           911507,
           909585,
           898553,
           885708,
           881549,
           876384,
           753675,
           715522,
           695506
          ],
          "colorbar": {
           "title": {
            "text": "Population"
           }
          },
          "colorscale": [
           [
            0,
            "#440154"
           ],
           [
            0.1111111111111111,
            "#482878"
           ],
           [
            0.2222222222222222,
            "#3e4989"
           ],
           [
            0.3333333333333333,
            "#31688e"
           ],
           [
            0.4444444444444444,
            "#26828e"
           ],
           [
            0.5555555555555556,
            "#1f9e89"
           ],
           [
            0.6666666666666666,
            "#35b779"
           ],
           [
            0.7777777777777778,
            "#6ece58"
           ],
           [
            0.8888888888888888,
            "#b5de2b"
           ],
           [
            1,
            "#fde725"
           ]
          ],
          "showscale": true,
          "size": 12
         },
         "mode": "markers",
         "name": "Cities",
         "text": [
          "New York<br>Population: 8,336,817<br>Coords: (0.50, 1.47)",
          "Los Angeles<br>Population: 3,979,576<br>Coords: (-0.14, -0.23)",
          "Chicago<br>Population: 2,693,976<br>Coords: (0.65, 0.07)",
          "Houston<br>Population: 2,320,268<br>Coords: (1.52, -1.42)",
          "Phoenix<br>Population: 1,680,992<br>Coords: (-0.23, -0.54)",
          "Philadelphia<br>Population: 1,584,064<br>Coords: (-0.23, 0.11)",
          "San Antonio<br>Population: 1,547,253<br>Coords: (1.58, -1.15)",
          "San Diego<br>Population: 1,423,851<br>Coords: (0.77, 0.38)",
          "Dallas<br>Population: 1,343,573<br>Coords: (-0.47, -0.60)",
          "San Jose<br>Population: 1,021,795<br>Coords: (0.54, -0.29)",
          "Austin<br>Population: 978,908<br>Coords: (-0.46, -0.60)",
          "Jacksonville<br>Population: 911,507<br>Coords: (-0.47, 1.85)",
          "Fort Worth<br>Population: 909,585<br>Coords: (0.24, -0.01)",
          "Columbus<br>Population: 898,553<br>Coords: (-1.91, -1.06)",
          "Charlotte<br>Population: 885,708<br>Coords: (-1.72, 0.82)",
          "San Francisco<br>Population: 881,549<br>Coords: (-0.56, -1.22)",
          "Indianapolis<br>Population: 876,384<br>Coords: (-1.01, 0.21)",
          "Seattle<br>Population: 753,675<br>Coords: (0.31, -1.96)",
          "Denver<br>Population: 715,522<br>Coords: (-0.91, -1.33)",
          "Boston<br>Population: 695,506<br>Coords: (-1.41, 0.20)"
         ],
         "type": "scatter",
         "x": {
          "bdata": "fDCpKCrK3z8qBd4FpbLBv2heJFDdueQ/K6oBjlRe+D9AplffvPjNvzvbcCYz+M2/CHRAqHRE+T/z1/BG047oP4ueeUveC96/fS1q4aZc4T9wG8Guoqjdv+fvFiuEzt2/cPmepZ74zj++Ne6+y5z+vxLk7nBDmfu/YzyhakL+4b95UaNnjjTwvx+GFtigHNQ/+wOLgYgO7b/IExTEy5j2vw==",
          "dtype": "f8"
         },
         "y": {
          "bdata": "QQ2fH0xz9z/ZmGbhPObMv8Y1sUaHSbE/YicNwcTL9r8o+spRlWvhvzUGMT9sZbw/FfXOPXhq8r/o3X2zbwvYP9I7PaFuOOO/oNLzQhyr0r+n/ak5LkHjv1f2GHPuov0/goOw1m6ki79EzIdLYuzwvzcuH7VJUuo/HHriWZOI87+1ae/SCrzKP8MwUA/PWv+//1qwA0BA9b9AOvS8vzLJPw==",
          "dtype": "f8"
         }
        }
       ],
       "layout": {
        "hovermode": "closest",
        "template": {
         "data": {
          "bar": [
           {
            "error_x": {
             "color": "#2a3f5f"
            },
            "error_y": {
             "color": "#2a3f5f"
            },
            "marker": {
             "line": {
              "color": "#E5ECF6",
              "width": 0.5
             },
             "pattern": {
              "fillmode": "overlay",
              "size": 10,
              "solidity": 0.2
             }
            },
            "type": "bar"
           }
          ],
          "barpolar": [
           {
            "marker": {
             "line": {
              "color": "#E5ECF6",
              "width": 0.5
             },
             "pattern": {
              "fillmode": "overlay",
              "size": 10,
              "solidity": 0.2
             }
            },
            "type": "barpolar"
           }
          ],
          "carpet": [
           {
            "aaxis": {
             "endlinecolor": "#2a3f5f",
             "gridcolor": "white",
             "linecolor": "white",
             "minorgridcolor": "white",
             "startlinecolor": "#2a3f5f"
            },
            "baxis": {
             "endlinecolor": "#2a3f5f",
             "gridcolor": "white",
             "linecolor": "white",
             "minorgridcolor": "white",
             "startlinecolor": "#2a3f5f"
            },
            "type": "carpet"
           }
          ],
          "choropleth": [
           {
            "colorbar": {
             "outlinewidth": 0,
             "ticks": ""
            },
            "type": "choropleth"
           }
          ],
          "contour": [
           {
            "colorbar": {
             "outlinewidth": 0,
             "ticks": ""
            },
            "colorscale": [
             [
              0,
              "#0d0887"
             ],
             [
              0.1111111111111111,
              "#46039f"
             ],
             [
              0.2222222222222222,
              "#7201a8"
             ],
             [
              0.3333333333333333,
              "#9c179e"
             ],
             [
              0.4444444444444444,
              "#bd3786"
             ],
             [
              0.5555555555555556,
              "#d8576b"
             ],
             [
              0.6666666666666666,
              "#ed7953"
             ],
             [
              0.7777777777777778,
              "#fb9f3a"
             ],
             [
              0.8888888888888888,
              "#fdca26"
             ],
             [
              1,
              "#f0f921"
             ]
            ],
            "type": "contour"
           }
          ],
          "contourcarpet": [
           {
            "colorbar": {
             "outlinewidth": 0,
             "ticks": ""
            },
            "type": "contourcarpet"
           }
          ],
          "heatmap": [
           {
            "colorbar": {
             "outlinewidth": 0,
             "ticks": ""
            },
            "colorscale": [
             [
              0,
              "#0d0887"
             ],
             [
              0.1111111111111111,
              "#46039f"
             ],
             [
              0.2222222222222222,
              "#7201a8"
             ],
             [
              0.3333333333333333,
              "#9c179e"
             ],
             [
              0.4444444444444444,
              "#bd3786"
             ],
             [
              0.5555555555555556,
              "#d8576b"
             ],
             [
              0.6666666666666666,
              "#ed7953"
             ],
             [
              0.7777777777777778,
              "#fb9f3a"
             ],
             [
              0.8888888888888888,
              "#fdca26"
             ],
             [
              1,
              "#f0f921"
             ]
            ],
            "type": "heatmap"
           }
          ],
          "histogram": [
           {
            "marker": {
             "pattern": {
              "fillmode": "overlay",
              "size": 10,
              "solidity": 0.2
             }
            },
            "type": "histogram"
           }
          ],
          "histogram2d": [
           {
            "colorbar": {
             "outlinewidth": 0,
             "ticks": ""
            },
            "colorscale": [
             [
              0,
              "#0d0887"
             ],
             [
              0.1111111111111111,
              "#46039f"
             ],
             [
              0.2222222222222222,
              "#7201a8"
             ],
             [
              0.3333333333333333,
              "#9c179e"
             ],
             [
              0.4444444444444444,
              "#bd3786"
             ],
             [
              0.5555555555555556,
              "#d8576b"
             ],
             [
              0.6666666666666666,
              "#ed7953"
             ],
             [
              0.7777777777777778,
              "#fb9f3a"
             ],
             [
              0.8888888888888888,
              "#fdca26"
             ],
             [
              1,
              "#f0f921"
             ]
            ],
            "type": "histogram2d"
           }
          ],
          "histogram2dcontour": [
           {
            "colorbar": {
             "outlinewidth": 0,
             "ticks": ""
            },
            "colorscale": [
             [
              0,
              "#0d0887"
             ],
             [
              0.1111111111111111,
              "#46039f"
             ],
             [
              0.2222222222222222,
              "#7201a8"
             ],
             [
              0.3333333333333333,
              "#9c179e"
             ],
             [
              0.4444444444444444,
              "#bd3786"
             ],
             [
              0.5555555555555556,
              "#d8576b"
             ],
             [
              0.6666666666666666,
              "#ed7953"
             ],
             [
              0.7777777777777778,
              "#fb9f3a"
             ],
             [
              0.8888888888888888,
              "#fdca26"
             ],
             [
              1,
              "#f0f921"
             ]
            ],
            "type": "histogram2dcontour"
           }
          ],
          "mesh3d": [
           {
            "colorbar": {
             "outlinewidth": 0,
             "ticks": ""
            },
            "type": "mesh3d"
           }
          ],
          "parcoords": [
           {
            "line": {
             "colorbar": {
              "outlinewidth": 0,
              "ticks": ""
             }
            },
            "type": "parcoords"
           }
          ],
          "pie": [
           {
            "automargin": true,
            "type": "pie"
           }
          ],
          "scatter": [
           {
            "fillpattern": {
             "fillmode": "overlay",
             "size": 10,
             "solidity": 0.2
            },
            "type": "scatter"
           }
          ],
          "scatter3d": [
           {
            "line": {
             "colorbar": {
              "outlinewidth": 0,
              "ticks": ""
             }
            },
            "marker": {
             "colorbar": {
              "outlinewidth": 0,
              "ticks": ""
             }
            },
            "type": "scatter3d"
           }
          ],
          "scattercarpet": [
           {
            "marker": {
             "colorbar": {
              "outlinewidth": 0,
              "ticks": ""
             }
            },
            "type": "scattercarpet"
           }
          ],
          "scattergeo": [
           {
            "marker": {
             "colorbar": {
              "outlinewidth": 0,
              "ticks": ""
             }
            },
            "type": "scattergeo"
           }
          ],
          "scattergl": [
           {
            "marker": {
             "colorbar": {
              "outlinewidth": 0,
              "ticks": ""
             }
            },
            "type": "scattergl"
           }
          ],
          "scattermap": [
           {
            "marker": {
             "colorbar": {
              "outlinewidth": 0,
              "ticks": ""
             }
            },
            "type": "scattermap"
           }
          ],
          "scattermapbox": [
           {
            "marker": {
             "colorbar": {
              "outlinewidth": 0,
              "ticks": ""
             }
            },
            "type": "scattermapbox"
           }
          ],
          "scatterpolar": [
           {
            "marker": {
             "colorbar": {
              "outlinewidth": 0,
              "ticks": ""
             }
            },
            "type": "scatterpolar"
           }
          ],
          "scatterpolargl": [
           {
            "marker": {
             "colorbar": {
              "outlinewidth": 0,
              "ticks": ""
             }
            },
            "type": "scatterpolargl"
           }
          ],
          "scatterternary": [
           {
            "marker": {
             "colorbar": {
              "outlinewidth": 0,
              "ticks": ""
             }
            },
            "type": "scatterternary"
           }
          ],
          "surface": [
           {
            "colorbar": {
             "outlinewidth": 0,
             "ticks": ""
            },
            "colorscale": [
             [
              0,
              "#0d0887"
             ],
             [
              0.1111111111111111,
              "#46039f"
             ],
             [
              0.2222222222222222,
              "#7201a8"
             ],
             [
              0.3333333333333333,
              "#9c179e"
             ],
             [
              0.4444444444444444,
              "#bd3786"
             ],
             [
              0.5555555555555556,
              "#d8576b"
             ],
             [
              0.6666666666666666,
              "#ed7953"
             ],
             [
              0.7777777777777778,
              "#fb9f3a"
             ],
             [
              0.8888888888888888,
              "#fdca26"
             ],
             [
              1,
              "#f0f921"
             ]
            ],
            "type": "surface"
           }
          ],
          "table": [
           {
            "cells": {
             "fill": {
              "color": "#EBF0F8"
             },
             "line": {
              "color": "white"
             }
            },
            "header": {
             "fill": {
              "color": "#C8D4E3"
             },
             "line": {
              "color": "white"
             }
            },
            "type": "table"
           }
          ]
         },
         "layout": {
          "annotationdefaults": {
           "arrowcolor": "#2a3f5f",
           "arrowhead": 0,
           "arrowwidth": 1
          },
          "autotypenumbers": "strict",
          "coloraxis": {
           "colorbar": {
            "outlinewidth": 0,
            "ticks": ""
           }
          },
          "colorscale": {
           "diverging": [
            [
             0,
             "#8e0152"
            ],
            [
             0.1,
             "#c51b7d"
            ],
            [
             0.2,
             "#de77ae"
            ],
            [
             0.3,
             "#f1b6da"
            ],
            [
             0.4,
             "#fde0ef"
            ],
            [
             0.5,
             "#f7f7f7"
            ],
            [
             0.6,
             "#e6f5d0"
            ],
            [
             0.7,
             "#b8e186"
            ],
            [
             0.8,
             "#7fbc41"
            ],
            [
             0.9,
             "#4d9221"
            ],
            [
             1,
             "#276419"
            ]
           ],
           "sequential": [
            [
             0,
             "#0d0887"
            ],
            [
             0.1111111111111111,
             "#46039f"
            ],
            [
             0.2222222222222222,
             "#7201a8"
            ],
            [
             0.3333333333333333,
             "#9c179e"
            ],
            [
             0.4444444444444444,
             "#bd3786"
            ],
            [
             0.5555555555555556,
             "#d8576b"
            ],
            [
             0.6666666666666666,
             "#ed7953"
            ],
            [
             0.7777777777777778,
             "#fb9f3a"
            ],
            [
             0.8888888888888888,
             "#fdca26"
            ],
            [
             1,
             "#f0f921"
            ]
           ],
           "sequentialminus": [
            [
             0,
             "#0d0887"
            ],
            [
             0.1111111111111111,
             "#46039f"
            ],
            [
             0.2222222222222222,
             "#7201a8"
            ],
            [
             0.3333333333333333,
             "#9c179e"
            ],
            [
             0.4444444444444444,
             "#bd3786"
            ],
            [
             0.5555555555555556,
             "#d8576b"
            ],
            [
             0.6666666666666666,
             "#ed7953"
            ],
            [
             0.7777777777777778,
             "#fb9f3a"
            ],
            [
             0.8888888888888888,
             "#fdca26"
            ],
            [
             1,
             "#f0f921"
            ]
           ]
          },
          "colorway": [
           "#636efa",
           "#EF553B",
           "#00cc96",
           "#ab63fa",
           "#FFA15A",
           "#19d3f3",
           "#FF6692",
           "#B6E880",
           "#FF97FF",
           "#FECB52"
          ],
          "font": {
           "color": "#2a3f5f"
          },
          "geo": {
           "bgcolor": "white",
           "lakecolor": "white",
           "landcolor": "#E5ECF6",
           "showlakes": true,
           "showland": true,
           "subunitcolor": "white"
          },
          "hoverlabel": {
           "align": "left"
          },
          "hovermode": "closest",
          "mapbox": {
           "style": "light"
          },
          "paper_bgcolor": "white",
          "plot_bgcolor": "#E5ECF6",
          "polar": {
           "angularaxis": {
            "gridcolor": "white",
            "linecolor": "white",
            "ticks": ""
           },
           "bgcolor": "#E5ECF6",
           "radialaxis": {
            "gridcolor": "white",
            "linecolor": "white",
            "ticks": ""
           }
          },
          "scene": {
           "xaxis": {
            "backgroundcolor": "#E5ECF6",
            "gridcolor": "white",
            "gridwidth": 2,
            "linecolor": "white",
            "showbackground": true,
            "ticks": "",
            "zerolinecolor": "white"
           },
           "yaxis": {
            "backgroundcolor": "#E5ECF6",
            "gridcolor": "white",
            "gridwidth": 2,
            "linecolor": "white",
            "showbackground": true,
            "ticks": "",
            "zerolinecolor": "white"
           },
           "zaxis": {
            "backgroundcolor": "#E5ECF6",
            "gridcolor": "white",
            "gridwidth": 2,
            "linecolor": "white",
            "showbackground": true,
            "ticks": "",
            "zerolinecolor": "white"
           }
          },
          "shapedefaults": {
           "line": {
            "color": "#2a3f5f"
           }
          },
          "ternary": {
           "aaxis": {
            "gridcolor": "white",
            "linecolor": "white",
            "ticks": ""
           },
           "baxis": {
            "gridcolor": "white",
            "linecolor": "white",
            "ticks": ""
           },
           "bgcolor": "#E5ECF6",
           "caxis": {
            "gridcolor": "white",
            "linecolor": "white",
            "ticks": ""
           }
          },
          "title": {
           "x": 0.05
          },
          "xaxis": {
           "automargin": true,
           "gridcolor": "white",
           "linecolor": "white",
           "ticks": "",
           "title": {
            "standoff": 15
           },
           "zerolinecolor": "white",
           "zerolinewidth": 2
          },
          "yaxis": {
           "automargin": true,
           "gridcolor": "white",
           "linecolor": "white",
           "ticks": "",
           "title": {
            "standoff": 15
           },
           "zerolinecolor": "white",
           "zerolinewidth": 2
          }
         }
        },
        "title": {
         "text": "Interactive City Population Plot (Plotly Version)"
        },
        "xaxis": {
         "title": {
          "text": "X Coordinate"
         }
        },
        "yaxis": {
         "title": {
          "text": "Y Coordinate"
         }
        }
       }
      }
     },
     "metadata": {},
     "output_type": "display_data"
    }
   ],
   "source": [
    "import matplotlib.pyplot as plt\n",
    "import numpy as np\n",
    "\n",
    "# Create sample data\n",
    "np.random.seed(42)\n",
    "n_points = 20\n",
    "x = np.random.randn(n_points)\n",
    "y = np.random.randn(n_points)\n",
    "\n",
    "# Create labels/information for each point\n",
    "cities = ['New York', 'Los Angeles', 'Chicago', 'Houston', 'Phoenix', \n",
    "          'Philadelphia', 'San Antonio', 'San Diego', 'Dallas', 'San Jose',\n",
    "          'Austin', 'Jacksonville', 'Fort Worth', 'Columbus', 'Charlotte',\n",
    "          'San Francisco', 'Indianapolis', 'Seattle', 'Denver', 'Boston']\n",
    "\n",
    "populations = [8336817, 3979576, 2693976, 2320268, 1680992, 1584064,\n",
    "               1547253, 1423851, 1343573, 1021795, 978908, 911507,\n",
    "               909585, 898553, 885708, 881549, 876384, 753675, 715522, 695506]\n",
    "\n",
    "# # Create the plot\n",
    "# fig, ax = plt.subplots(figsize=(10, 8))\n",
    "# scatter = ax.scatter(x, y, c=populations, cmap='viridis', s=100, alpha=0.7)\n",
    "\n",
    "# # Add colorbar\n",
    "# cbar = plt.colorbar(scatter)\n",
    "# cbar.set_label('Population')\n",
    "\n",
    "# # Create annotation box (initially invisible)\n",
    "# annotation = ax.annotate('', xy=(0, 0), xytext=(20, 20), \n",
    "#                         textcoords=\"offset points\",\n",
    "#                         bbox=dict(boxstyle=\"round\", fc=\"w\", alpha=0.8),\n",
    "#                         arrowprops=dict(arrowstyle=\"->\"))\n",
    "# annotation.set_visible(False)\n",
    "\n",
    "# def on_hover(event):\n",
    "#     \"\"\"Function to handle mouse hover events\"\"\"\n",
    "#     if event.inaxes == ax:\n",
    "#         # Check if mouse is over any point\n",
    "#         contains, info = scatter.contains(event)\n",
    "        \n",
    "#         if contains:\n",
    "#             # Get the index of the point being hovered over\n",
    "#             ind = info['ind'][0]\n",
    "            \n",
    "#             # Get the position of the point\n",
    "#             pos = scatter.get_offsets()[ind]\n",
    "            \n",
    "#             # Update annotation\n",
    "#             annotation.xy = pos\n",
    "#             annotation.set_text(f'{cities[ind]}\\nPopulation: {populations[ind]:,}\\n'\n",
    "#                                f'Coordinates: ({pos[0]:.2f}, {pos[1]:.2f})')\n",
    "#             annotation.set_visible(True)\n",
    "            \n",
    "#             # Refresh the plot\n",
    "#             fig.canvas.draw_idle()\n",
    "#         else:\n",
    "#             # Hide annotation if not hovering over any point\n",
    "#             annotation.set_visible(False)\n",
    "#             fig.canvas.draw_idle()\n",
    "\n",
    "# # Connect the hover function to the plot\n",
    "# fig.canvas.mpl_connect('motion_notify_event', on_hover)\n",
    "\n",
    "# # Set labels and title\n",
    "# ax.set_xlabel('X Coordinate')\n",
    "# ax.set_ylabel('Y Coordinate')\n",
    "# ax.set_title('Interactive City Population Plot\\n(Hover over points to see details)')\n",
    "\n",
    "# # Add grid for better visualization\n",
    "# ax.grid(True, alpha=0.3)\n",
    "\n",
    "# # Show the plot\n",
    "# plt.tight_layout()\n",
    "# plt.show()\n",
    "\n",
    "# Alternative version using plotly for more interactive features\n",
    "print(\"\\n\" + \"=\"*50)\n",
    "print(\"BONUS: Here's also a Plotly version for enhanced interactivity\")\n",
    "print(\"=\"*50)\n",
    "\n",
    "try:\n",
    "    import plotly.graph_objects as go\n",
    "    import plotly.express as px\n",
    "    \n",
    "    # Create plotly figure\n",
    "    fig_plotly = go.Figure()\n",
    "    \n",
    "    fig_plotly.add_trace(go.Scatter(\n",
    "        x=x,\n",
    "        y=y,\n",
    "        mode='markers',\n",
    "        marker=dict(\n",
    "            size=12,\n",
    "            color=populations,\n",
    "            colorscale='viridis',\n",
    "            showscale=True,\n",
    "            colorbar=dict(title=\"Population\")\n",
    "        ),\n",
    "        text=[f'{city}<br>Population: {pop:,}<br>Coords: ({x[i]:.2f}, {y[i]:.2f})' \n",
    "              for i, (city, pop) in enumerate(zip(cities, populations))],\n",
    "        hovertemplate='%{text}<extra></extra>',\n",
    "        name='Cities'\n",
    "    ))\n",
    "    \n",
    "    fig_plotly.update_layout(\n",
    "        title='Interactive City Population Plot (Plotly Version)',\n",
    "        xaxis_title='X Coordinate',\n",
    "        yaxis_title='Y Coordinate',\n",
    "        hovermode='closest'\n",
    "    )\n",
    "    \n",
    "    fig_plotly.show()\n",
    "    \n",
    "except ImportError:\n",
    "    print(\"Plotly not installed. Install with: pip install plotly\")\n",
    "    print(\"The matplotlib version above works without additional dependencies!\")"
   ]
  },
  {
   "cell_type": "code",
   "execution_count": 2,
   "metadata": {},
   "outputs": [
    {
     "data": {
      "image/png": "[encoded data removed]",
      "text/plain": [
       "<Figure size 1200x800 with 2 Axes>"
      ]
     },
     "metadata": {},
     "output_type": "display_data"
    },
    {
     "name": "stdout",
     "output_type": "stream",
     "text": [
      "Static version displayed above. For interactive hover functionality, try the Plotly version below:\n",
      "======================================================================\n"
     ]
    },
    {
     "data": {
      "application/vnd.plotly.v1+json": {
       "config": {
        "plotlyServerURL": "https://plot.ly"
       },
       "data": [
        {
         "hovertemplate": "%{text}<extra></extra>",
         "marker": {
          "color": [
           8336817,
           3979576,
           2693976,
           2320268,
           1680992,
           1584064,
           1547253,
           1423851,
           1343573,
           1021795,
           978908,
           911507,
           909585,
           898553,
           885708,
           881549,
           876384,
           753675,
           715522,
           695506
          ],
          "colorbar": {
           "title": {
            "text": "Population"
           }
          },
          "colorscale": [
           [
            0,
            "#440154"
           ],
           [
            0.1111111111111111,
            "#482878"
           ],
           [
            0.2222222222222222,
            "#3e4989"
           ],
           [
            0.3333333333333333,
            "#31688e"
           ],
           [
            0.4444444444444444,
            "#26828e"
           ],
           [
            0.5555555555555556,
            "#1f9e89"
           ],
           [
            0.6666666666666666,
            "#35b779"
           ],
           [
            0.7777777777777778,
            "#6ece58"
           ],
           [
            0.8888888888888888,
            "#b5de2b"
           ],
           [
            1,
            "#fde725"
           ]
          ],
          "showscale": true,
          "size": 12
         },
         "mode": "markers",
         "name": "Cities",
         "text": [
          "New York<br>Population: 8,336,817<br>Coords: (0.50, 1.47)",
          "Los Angeles<br>Population: 3,979,576<br>Coords: (-0.14, -0.23)",
          "Chicago<br>Population: 2,693,976<br>Coords: (0.65, 0.07)",
          "Houston<br>Population: 2,320,268<br>Coords: (1.52, -1.42)",
          "Phoenix<br>Population: 1,680,992<br>Coords: (-0.23, -0.54)",
          "Philadelphia<br>Population: 1,584,064<br>Coords: (-0.23, 0.11)",
          "San Antonio<br>Population: 1,547,253<br>Coords: (1.58, -1.15)",
          "San Diego<br>Population: 1,423,851<br>Coords: (0.77, 0.38)",
          "Dallas<br>Population: 1,343,573<br>Coords: (-0.47, -0.60)",
          "San Jose<br>Population: 1,021,795<br>Coords: (0.54, -0.29)",
          "Austin<br>Population: 978,908<br>Coords: (-0.46, -0.60)",
          "Jacksonville<br>Population: 911,507<br>Coords: (-0.47, 1.85)",
          "Fort Worth<br>Population: 909,585<br>Coords: (0.24, -0.01)",
          "Columbus<br>Population: 898,553<br>Coords: (-1.91, -1.06)",
          "Charlotte<br>Population: 885,708<br>Coords: (-1.72, 0.82)",
          "San Francisco<br>Population: 881,549<br>Coords: (-0.56, -1.22)",
          "Indianapolis<br>Population: 876,384<br>Coords: (-1.01, 0.21)",
          "Seattle<br>Population: 753,675<br>Coords: (0.31, -1.96)",
          "Denver<br>Population: 715,522<br>Coords: (-0.91, -1.33)",
          "Boston<br>Population: 695,506<br>Coords: (-1.41, 0.20)"
         ],
         "type": "scatter",
         "x": {
          "bdata": "fDCpKCrK3z8qBd4FpbLBv2heJFDdueQ/K6oBjlRe+D9AplffvPjNvzvbcCYz+M2/CHRAqHRE+T/z1/BG047oP4ueeUveC96/fS1q4aZc4T9wG8Guoqjdv+fvFiuEzt2/cPmepZ74zj++Ne6+y5z+vxLk7nBDmfu/YzyhakL+4b95UaNnjjTwvx+GFtigHNQ/+wOLgYgO7b/IExTEy5j2vw==",
          "dtype": "f8"
         },
         "y": {
          "bdata": "QQ2fH0xz9z/ZmGbhPObMv8Y1sUaHSbE/YicNwcTL9r8o+spRlWvhvzUGMT9sZbw/FfXOPXhq8r/o3X2zbwvYP9I7PaFuOOO/oNLzQhyr0r+n/ak5LkHjv1f2GHPuov0/goOw1m6ki79EzIdLYuzwvzcuH7VJUuo/HHriWZOI87+1ae/SCrzKP8MwUA/PWv+//1qwA0BA9b9AOvS8vzLJPw==",
          "dtype": "f8"
         }
        }
       ],
       "layout": {
        "height": 600,
        "hovermode": "closest",
        "template": {
         "data": {
          "bar": [
           {
            "error_x": {
             "color": "#2a3f5f"
            },
            "error_y": {
             "color": "#2a3f5f"
            },
            "marker": {
             "line": {
              "color": "#E5ECF6",
              "width": 0.5
             },
             "pattern": {
              "fillmode": "overlay",
              "size": 10,
              "solidity": 0.2
             }
            },
            "type": "bar"
           }
          ],
          "barpolar": [
           {
            "marker": {
             "line": {
              "color": "#E5ECF6",
              "width": 0.5
             },
             "pattern": {
              "fillmode": "overlay",
              "size": 10,
              "solidity": 0.2
             }
            },
            "type": "barpolar"
           }
          ],
          "carpet": [
           {
            "aaxis": {
             "endlinecolor": "#2a3f5f",
             "gridcolor": "white",
             "linecolor": "white",
             "minorgridcolor": "white",
             "startlinecolor": "#2a3f5f"
            },
            "baxis": {
             "endlinecolor": "#2a3f5f",
             "gridcolor": "white",
             "linecolor": "white",
             "minorgridcolor": "white",
             "startlinecolor": "#2a3f5f"
            },
            "type": "carpet"
           }
          ],
          "choropleth": [
           {
            "colorbar": {
             "outlinewidth": 0,
             "ticks": ""
            },
            "type": "choropleth"
           }
          ],
          "contour": [
           {
            "colorbar": {
             "outlinewidth": 0,
             "ticks": ""
            },
            "colorscale": [
             [
              0,
              "#0d0887"
             ],
             [
              0.1111111111111111,
              "#46039f"
             ],
             [
              0.2222222222222222,
              "#7201a8"
             ],
             [
              0.3333333333333333,
              "#9c179e"
             ],
             [
              0.4444444444444444,
              "#bd3786"
             ],
             [
              0.5555555555555556,
              "#d8576b"
             ],
             [
              0.6666666666666666,
              "#ed7953"
             ],
             [
              0.7777777777777778,
              "#fb9f3a"
             ],
             [
              0.8888888888888888,
              "#fdca26"
             ],
             [
              1,
              "#f0f921"
             ]
            ],
            "type": "contour"
           }
          ],
          "contourcarpet": [
           {
            "colorbar": {
             "outlinewidth": 0,
             "ticks": ""
            },
            "type": "contourcarpet"
           }
          ],
          "heatmap": [
           {
            "colorbar": {
             "outlinewidth": 0,
             "ticks": ""
            },
            "colorscale": [
             [
              0,
              "#0d0887"
             ],
             [
              0.1111111111111111,
              "#46039f"
             ],
             [
              0.2222222222222222,
              "#7201a8"
             ],
             [
              0.3333333333333333,
              "#9c179e"
             ],
             [
              0.4444444444444444,
              "#bd3786"
             ],
             [
              0.5555555555555556,
              "#d8576b"
             ],
             [
              0.6666666666666666,
              "#ed7953"
             ],
             [
              0.7777777777777778,
              "#fb9f3a"
             ],
             [
              0.8888888888888888,
              "#fdca26"
             ],
             [
              1,
              "#f0f921"
             ]
            ],
            "type": "heatmap"
           }
          ],
          "histogram": [
           {
            "marker": {
             "pattern": {
              "fillmode": "overlay",
              "size": 10,
              "solidity": 0.2
             }
            },
            "type": "histogram"
           }
          ],
          "histogram2d": [
           {
            "colorbar": {
             "outlinewidth": 0,
             "ticks": ""
            },
            "colorscale": [
             [
              0,
              "#0d0887"
             ],
             [
              0.1111111111111111,
              "#46039f"
             ],
             [
              0.2222222222222222,
              "#7201a8"
             ],
             [
              0.3333333333333333,
              "#9c179e"
             ],
             [
              0.4444444444444444,
              "#bd3786"
             ],
             [
              0.5555555555555556,
              "#d8576b"
             ],
             [
              0.6666666666666666,
              "#ed7953"
             ],
             [
              0.7777777777777778,
              "#fb9f3a"
             ],
             [
              0.8888888888888888,
              "#fdca26"
             ],
             [
              1,
              "#f0f921"
             ]
            ],
            "type": "histogram2d"
           }
          ],
          "histogram2dcontour": [
           {
            "colorbar": {
             "outlinewidth": 0,
             "ticks": ""
            },
            "colorscale": [
             [
              0,
              "#0d0887"
             ],
             [
              0.1111111111111111,
              "#46039f"
             ],
             [
              0.2222222222222222,
              "#7201a8"
             ],
             [
              0.3333333333333333,
              "#9c179e"
             ],
             [
              0.4444444444444444,
              "#bd3786"
             ],
             [
              0.5555555555555556,
              "#d8576b"
             ],
             [
              0.6666666666666666,
              "#ed7953"
             ],
             [
              0.7777777777777778,
              "#fb9f3a"
             ],
             [
              0.8888888888888888,
              "#fdca26"
             ],
             [
              1,
              "#f0f921"
             ]
            ],
            "type": "histogram2dcontour"
           }
          ],
          "mesh3d": [
           {
            "colorbar": {
             "outlinewidth": 0,
             "ticks": ""
            },
            "type": "mesh3d"
           }
          ],
          "parcoords": [
           {
            "line": {
             "colorbar": {
              "outlinewidth": 0,
              "ticks": ""
             }
            },
            "type": "parcoords"
           }
          ],
          "pie": [
           {
            "automargin": true,
            "type": "pie"
           }
          ],
          "scatter": [
           {
            "fillpattern": {
             "fillmode": "overlay",
             "size": 10,
             "solidity": 0.2
            },
            "type": "scatter"
           }
          ],
          "scatter3d": [
           {
            "line": {
             "colorbar": {
              "outlinewidth": 0,
              "ticks": ""
             }
            },
            "marker": {
             "colorbar": {
              "outlinewidth": 0,
              "ticks": ""
             }
            },
            "type": "scatter3d"
           }
          ],
          "scattercarpet": [
           {
            "marker": {
             "colorbar": {
              "outlinewidth": 0,
              "ticks": ""
             }
            },
            "type": "scattercarpet"
           }
          ],
          "scattergeo": [
           {
            "marker": {
             "colorbar": {
              "outlinewidth": 0,
              "ticks": ""
             }
            },
            "type": "scattergeo"
           }
          ],
          "scattergl": [
           {
            "marker": {
             "colorbar": {
              "outlinewidth": 0,
              "ticks": ""
             }
            },
            "type": "scattergl"
           }
          ],
          "scattermap": [
           {
            "marker": {
             "colorbar": {
              "outlinewidth": 0,
              "ticks": ""
             }
            },
            "type": "scattermap"
           }
          ],
          "scattermapbox": [
           {
            "marker": {
             "colorbar": {
              "outlinewidth": 0,
              "ticks": ""
             }
            },
            "type": "scattermapbox"
           }
          ],
          "scatterpolar": [
           {
            "marker": {
             "colorbar": {
              "outlinewidth": 0,
              "ticks": ""
             }
            },
            "type": "scatterpolar"
           }
          ],
          "scatterpolargl": [
           {
            "marker": {
             "colorbar": {
              "outlinewidth": 0,
              "ticks": ""
             }
            },
            "type": "scatterpolargl"
           }
          ],
          "scatterternary": [
           {
            "marker": {
             "colorbar": {
              "outlinewidth": 0,
              "ticks": ""
             }
            },
            "type": "scatterternary"
           }
          ],
          "surface": [
           {
            "colorbar": {
             "outlinewidth": 0,
             "ticks": ""
            },
            "colorscale": [
             [
              0,
              "#0d0887"
             ],
             [
              0.1111111111111111,
              "#46039f"
             ],
             [
              0.2222222222222222,
              "#7201a8"
             ],
             [
              0.3333333333333333,
              "#9c179e"
             ],
             [
              0.4444444444444444,
              "#bd3786"
             ],
             [
              0.5555555555555556,
              "#d8576b"
             ],
             [
              0.6666666666666666,
              "#ed7953"
             ],
             [
              0.7777777777777778,
              "#fb9f3a"
             ],
             [
              0.8888888888888888,
              "#fdca26"
             ],
             [
              1,
              "#f0f921"
             ]
            ],
            "type": "surface"
           }
          ],
          "table": [
           {
            "cells": {
             "fill": {
              "color": "#EBF0F8"
             },
             "line": {
              "color": "white"
             }
            },
            "header": {
             "fill": {
              "color": "#C8D4E3"
             },
             "line": {
              "color": "white"
             }
            },
            "type": "table"
           }
          ]
         },
         "layout": {
          "annotationdefaults": {
           "arrowcolor": "#2a3f5f",
           "arrowhead": 0,
           "arrowwidth": 1
          },
          "autotypenumbers": "strict",
          "coloraxis": {
           "colorbar": {
            "outlinewidth": 0,
            "ticks": ""
           }
          },
          "colorscale": {
           "diverging": [
            [
             0,
             "#8e0152"
            ],
            [
             0.1,
             "#c51b7d"
            ],
            [
             0.2,
             "#de77ae"
            ],
            [
             0.3,
             "#f1b6da"
            ],
            [
             0.4,
             "#fde0ef"
            ],
            [
             0.5,
             "#f7f7f7"
            ],
            [
             0.6,
             "#e6f5d0"
            ],
            [
             0.7,
             "#b8e186"
            ],
            [
             0.8,
             "#7fbc41"
            ],
            [
             0.9,
             "#4d9221"
            ],
            [
             1,
             "#276419"
            ]
           ],
           "sequential": [
            [
             0,
             "#0d0887"
            ],
            [
             0.1111111111111111,
             "#46039f"
            ],
            [
             0.2222222222222222,
             "#7201a8"
            ],
            [
             0.3333333333333333,
             "#9c179e"
            ],
            [
             0.4444444444444444,
             "#bd3786"
            ],
            [
             0.5555555555555556,
             "#d8576b"
            ],
            [
             0.6666666666666666,
             "#ed7953"
            ],
            [
             0.7777777777777778,
             "#fb9f3a"
            ],
            [
             0.8888888888888888,
             "#fdca26"
            ],
            [
             1,
             "#f0f921"
            ]
           ],
           "sequentialminus": [
            [
             0,
             "#0d0887"
            ],
            [
             0.1111111111111111,
             "#46039f"
            ],
            [
             0.2222222222222222,
             "#7201a8"
            ],
            [
             0.3333333333333333,
             "#9c179e"
            ],
            [
             0.4444444444444444,
             "#bd3786"
            ],
            [
             0.5555555555555556,
             "#d8576b"
            ],
            [
             0.6666666666666666,
             "#ed7953"
            ],
            [
             0.7777777777777778,
             "#fb9f3a"
            ],
            [
             0.8888888888888888,
             "#fdca26"
            ],
            [
             1,
             "#f0f921"
            ]
           ]
          },
          "colorway": [
           "#636efa",
           "#EF553B",
           "#00cc96",
           "#ab63fa",
           "#FFA15A",
           "#19d3f3",
           "#FF6692",
           "#B6E880",
           "#FF97FF",
           "#FECB52"
          ],
          "font": {
           "color": "#2a3f5f"
          },
          "geo": {
           "bgcolor": "white",
           "lakecolor": "white",
           "landcolor": "#E5ECF6",
           "showlakes": true,
           "showland": true,
           "subunitcolor": "white"
          },
          "hoverlabel": {
           "align": "left"
          },
          "hovermode": "closest",
          "mapbox": {
           "style": "light"
          },
          "paper_bgcolor": "white",
          "plot_bgcolor": "#E5ECF6",
          "polar": {
           "angularaxis": {
            "gridcolor": "white",
            "linecolor": "white",
            "ticks": ""
           },
           "bgcolor": "#E5ECF6",
           "radialaxis": {
            "gridcolor": "white",
            "linecolor": "white",
            "ticks": ""
           }
          },
          "scene": {
           "xaxis": {
            "backgroundcolor": "#E5ECF6",
            "gridcolor": "white",
            "gridwidth": 2,
            "linecolor": "white",
            "showbackground": true,
            "ticks": "",
            "zerolinecolor": "white"
           },
           "yaxis": {
            "backgroundcolor": "#E5ECF6",
            "gridcolor": "white",
            "gridwidth": 2,
            "linecolor": "white",
            "showbackground": true,
            "ticks": "",
            "zerolinecolor": "white"
           },
           "zaxis": {
            "backgroundcolor": "#E5ECF6",
            "gridcolor": "white",
            "gridwidth": 2,
            "linecolor": "white",
            "showbackground": true,
            "ticks": "",
            "zerolinecolor": "white"
           }
          },
          "shapedefaults": {
           "line": {
            "color": "#2a3f5f"
           }
          },
          "ternary": {
           "aaxis": {
            "gridcolor": "white",
            "linecolor": "white",
            "ticks": ""
           },
           "baxis": {
            "gridcolor": "white",
            "linecolor": "white",
            "ticks": ""
           },
           "bgcolor": "#E5ECF6",
           "caxis": {
            "gridcolor": "white",
            "linecolor": "white",
            "ticks": ""
           }
          },
          "title": {
           "x": 0.05
          },
          "xaxis": {
           "automargin": true,
           "gridcolor": "white",
           "linecolor": "white",
           "ticks": "",
           "title": {
            "standoff": 15
           },
           "zerolinecolor": "white",
           "zerolinewidth": 2
          },
          "yaxis": {
           "automargin": true,
           "gridcolor": "white",
           "linecolor": "white",
           "ticks": "",
           "title": {
            "standoff": 15
           },
           "zerolinecolor": "white",
           "zerolinewidth": 2
          }
         }
        },
        "title": {
         "text": "Interactive City Population Plot (Hover over points!)"
        },
        "width": 800,
        "xaxis": {
         "title": {
          "text": "X Coordinate"
         }
        },
        "yaxis": {
         "title": {
          "text": "Y Coordinate"
         }
        }
       }
      }
     },
     "metadata": {},
     "output_type": "display_data"
    },
    {
     "name": "stdout",
     "output_type": "stream",
     "text": [
      "\n",
      "======================================================================\n",
      "ALTERNATIVE: Click-based interaction with matplotlib\n",
      "======================================================================\n",
      "Click on points in the plot above to see information in the output!\n"
     ]
    }
   ],
   "source": [
    "import matplotlib.pyplot as plt\n",
    "import numpy as np\n",
    "\n",
    "# For Jupyter notebooks - use inline plotting\n",
    "%matplotlib inline\n",
    "\n",
    "# Create sample data\n",
    "np.random.seed(42)\n",
    "n_points = 20\n",
    "x = np.random.randn(n_points)\n",
    "y = np.random.randn(n_points)\n",
    "\n",
    "# Create labels/information for each point\n",
    "cities = ['New York', 'Los Angeles', 'Chicago', 'Houston', 'Phoenix', \n",
    "          'Philadelphia', 'San Antonio', 'San Diego', 'Dallas', 'San Jose',\n",
    "          'Austin', 'Jacksonville', 'Fort Worth', 'Columbus', 'Charlotte',\n",
    "          'San Francisco', 'Indianapolis', 'Seattle', 'Denver', 'Boston']\n",
    "\n",
    "populations = [8336817, 3979576, 2693976, 2320268, 1680992, 1584064,\n",
    "               1547253, 1423851, 1343573, 1021795, 978908, 911507,\n",
    "               909585, 898553, 885708, 881549, 876384, 753675, 715522, 695506]\n",
    "\n",
    "# Create the plot\n",
    "fig, ax = plt.subplots(figsize=(12, 8))\n",
    "scatter = ax.scatter(x, y, c=populations, cmap='viridis', s=100, alpha=0.7)\n",
    "\n",
    "# Add colorbar\n",
    "cbar = plt.colorbar(scatter)\n",
    "cbar.set_label('Population')\n",
    "\n",
    "# Add city labels next to points (static version)\n",
    "for i, city in enumerate(cities):\n",
    "    ax.annotate(city, (x[i], y[i]), xytext=(5, 5), textcoords='offset points',\n",
    "                fontsize=8, alpha=0.7)\n",
    "\n",
    "# Set labels and title\n",
    "ax.set_xlabel('X Coordinate')\n",
    "ax.set_ylabel('Y Coordinate')\n",
    "ax.set_title('City Population Plot with Labels')\n",
    "\n",
    "# Add grid for better visualization\n",
    "ax.grid(True, alpha=0.3)\n",
    "\n",
    "# Show the plot\n",
    "plt.tight_layout()\n",
    "plt.show()\n",
    "\n",
    "print(\"Static version displayed above. For interactive hover functionality, try the Plotly version below:\")\n",
    "print(\"=\"*70)\n",
    "\n",
    "# Plotly version (recommended for Jupyter)\n",
    "try:\n",
    "    import plotly.graph_objects as go\n",
    "    \n",
    "    # Create plotly figure\n",
    "    fig_plotly = go.Figure()\n",
    "    \n",
    "    fig_plotly.add_trace(go.Scatter(\n",
    "        x=x,\n",
    "        y=y,\n",
    "        mode='markers',\n",
    "        marker=dict(\n",
    "            size=12,\n",
    "            color=populations,\n",
    "            colorscale='viridis',\n",
    "            showscale=True,\n",
    "            colorbar=dict(title=\"Population\")\n",
    "        ),\n",
    "        text=[f'{city}<br>Population: {pop:,}<br>Coords: ({x[i]:.2f}, {y[i]:.2f})' \n",
    "              for i, (city, pop) in enumerate(zip(cities, populations))],\n",
    "        hovertemplate='%{text}<extra></extra>',\n",
    "        name='Cities'\n",
    "    ))\n",
    "    \n",
    "    fig_plotly.update_layout(\n",
    "        title='Interactive City Population Plot (Hover over points!)',\n",
    "        xaxis_title='X Coordinate',\n",
    "        yaxis_title='Y Coordinate',\n",
    "        hovermode='closest',\n",
    "        width=800,\n",
    "        height=600\n",
    "    )\n",
    "    \n",
    "    # This will work in Jupyter notebooks\n",
    "    fig_plotly.show()\n",
    "    \n",
    "except ImportError:\n",
    "    print(\"Plotly not installed. Install with: pip install plotly\")\n",
    "    print(\"Plotly provides the best interactive experience in Jupyter notebooks!\")\n",
    "\n",
    "# Alternative: Simple click-based interaction\n",
    "print(\"\\n\" + \"=\"*70)\n",
    "print(\"ALTERNATIVE: Click-based interaction with matplotlib\")\n",
    "print(\"=\"*70)\n",
    "\n",
    "def on_click(event):\n",
    "    \"\"\"Function to handle mouse click events\"\"\"\n",
    "    if event.inaxes == ax:\n",
    "        # Find the closest point to the click\n",
    "        distances = np.sqrt((x - event.xdata)**2 + (y - event.ydata)**2)\n",
    "        closest_idx = np.argmin(distances)\n",
    "        \n",
    "        # Only show info if click is reasonably close to a point\n",
    "        if distances[closest_idx] < 0.3:  # Adjust threshold as needed\n",
    "            print(f\"Clicked on: {cities[closest_idx]}\")\n",
    "            print(f\"Population: {populations[closest_idx]:,}\")\n",
    "            print(f\"Coordinates: ({x[closest_idx]:.2f}, {y[closest_idx]:.2f})\")\n",
    "            print(\"-\" * 40)\n",
    "\n",
    "# Connect the click function to the plot\n",
    "fig.canvas.mpl_connect('button_press_event', on_click)\n",
    "\n",
    "print(\"Click on points in the plot above to see information in the output!\")"
   ]
  },
  {
   "cell_type": "code",
   "execution_count": 3,
   "metadata": {},
   "outputs": [
    {
     "name": "stdout",
     "output_type": "stream",
     "text": [
      "Method 1: Static plot with all labels visible\n",
      "==================================================\n"
     ]
    },
    {
     "data": {
      "image/png": "[encoded data removed]",
      "text/plain": [
       "<Figure size 1200x800 with 2 Axes>"
      ]
     },
     "metadata": {},
     "output_type": "display_data"
    },
    {
     "name": "stdout",
     "output_type": "stream",
     "text": [
      "\n",
      "==================================================\n",
      "Method 2: Click to reveal information\n",
      "==================================================\n"
     ]
    },
    {
     "data": {
      "image/png": "[encoded data removed]",
      "text/plain": [
       "<Figure size 1200x800 with 2 Axes>"
      ]
     },
     "metadata": {},
     "output_type": "display_data"
    },
    {
     "name": "stdout",
     "output_type": "stream",
     "text": [
      "\n",
      "📍 Click on any numbered point in the plot above to see city information!\n",
      "   The information will appear in this output area.\n",
      "\n",
      "==================================================\n",
      "Method 3: Complete data reference\n",
      "==================================================\n",
      "#   City            Population   X        Y       \n",
      "--------------------------------------------------\n",
      "1   New York        8,336,817    0.50     1.47    \n",
      "2   Los Angeles     3,979,576    -0.14    -0.23   \n",
      "3   Chicago         2,693,976    0.65     0.07    \n",
      "4   Houston         2,320,268    1.52     -1.42   \n",
      "5   Phoenix         1,680,992    -0.23    -0.54   \n",
      "6   Philadelphia    1,584,064    -0.23    0.11    \n",
      "7   San Antonio     1,547,253    1.58     -1.15   \n",
      "8   San Diego       1,423,851    0.77     0.38    \n",
      "9   Dallas          1,343,573    -0.47    -0.60   \n",
      "10  San Jose        1,021,795    0.54     -0.29   \n",
      "11  Austin          978,908      -0.46    -0.60   \n",
      "12  Jacksonville    911,507      -0.47    1.85    \n",
      "13  Fort Worth      909,585      0.24     -0.01   \n",
      "14  Columbus        898,553      -1.91    -1.06   \n",
      "15  Charlotte       885,708      -1.72    0.82    \n",
      "16  San Francisco   881,549      -0.56    -1.22   \n",
      "17  Indianapolis    876,384      -1.01    0.21    \n",
      "18  Seattle         753,675      0.31     -1.96   \n",
      "19  Denver          715,522      -0.91    -1.33   \n",
      "20  Boston          695,506      -1.41    0.20    \n",
      "\n",
      "==================================================\n",
      "Method 4: Enhanced interactive plot with Plotly\n",
      "==================================================\n"
     ]
    },
    {
     "data": {
      "application/vnd.plotly.v1+json": {
       "config": {
        "plotlyServerURL": "https://plot.ly"
       },
       "data": [
        {
         "hovertemplate": "%{hovertext}<extra></extra>",
         "hovertext": [
          "<b>New York</b><br>Population: 8,336,817<br>Coordinates: (0.50, 1.47)<br>Point #1",
          "<b>Los Angeles</b><br>Population: 3,979,576<br>Coordinates: (-0.14, -0.23)<br>Point #2",
          "<b>Chicago</b><br>Population: 2,693,976<br>Coordinates: (0.65, 0.07)<br>Point #3",
          "<b>Houston</b><br>Population: 2,320,268<br>Coordinates: (1.52, -1.42)<br>Point #4",
          "<b>Phoenix</b><br>Population: 1,680,992<br>Coordinates: (-0.23, -0.54)<br>Point #5",
          "<b>Philadelphia</b><br>Population: 1,584,064<br>Coordinates: (-0.23, 0.11)<br>Point #6",
          "<b>San Antonio</b><br>Population: 1,547,253<br>Coordinates: (1.58, -1.15)<br>Point #7",
          "<b>San Diego</b><br>Population: 1,423,851<br>Coordinates: (0.77, 0.38)<br>Point #8",
          "<b>Dallas</b><br>Population: 1,343,573<br>Coordinates: (-0.47, -0.60)<br>Point #9",
          "<b>San Jose</b><br>Population: 1,021,795<br>Coordinates: (0.54, -0.29)<br>Point #10",
          "<b>Austin</b><br>Population: 978,908<br>Coordinates: (-0.46, -0.60)<br>Point #11",
          "<b>Jacksonville</b><br>Population: 911,507<br>Coordinates: (-0.47, 1.85)<br>Point #12",
          "<b>Fort Worth</b><br>Population: 909,585<br>Coordinates: (0.24, -0.01)<br>Point #13",
          "<b>Columbus</b><br>Population: 898,553<br>Coordinates: (-1.91, -1.06)<br>Point #14",
          "<b>Charlotte</b><br>Population: 885,708<br>Coordinates: (-1.72, 0.82)<br>Point #15",
          "<b>San Francisco</b><br>Population: 881,549<br>Coordinates: (-0.56, -1.22)<br>Point #16",
          "<b>Indianapolis</b><br>Population: 876,384<br>Coordinates: (-1.01, 0.21)<br>Point #17",
          "<b>Seattle</b><br>Population: 753,675<br>Coordinates: (0.31, -1.96)<br>Point #18",
          "<b>Denver</b><br>Population: 715,522<br>Coordinates: (-0.91, -1.33)<br>Point #19",
          "<b>Boston</b><br>Population: 695,506<br>Coordinates: (-1.41, 0.20)<br>Point #20"
         ],
         "marker": {
          "color": [
           8336817,
           3979576,
           2693976,
           2320268,
           1680992,
           1584064,
           1547253,
           1423851,
           1343573,
           1021795,
           978908,
           911507,
           909585,
           898553,
           885708,
           881549,
           876384,
           753675,
           715522,
           695506
          ],
          "colorbar": {
           "title": {
            "text": "Population"
           }
          },
          "colorscale": [
           [
            0,
            "#440154"
           ],
           [
            0.1111111111111111,
            "#482878"
           ],
           [
            0.2222222222222222,
            "#3e4989"
           ],
           [
            0.3333333333333333,
            "#31688e"
           ],
           [
            0.4444444444444444,
            "#26828e"
           ],
           [
            0.5555555555555556,
            "#1f9e89"
           ],
           [
            0.6666666666666666,
            "#35b779"
           ],
           [
            0.7777777777777778,
            "#6ece58"
           ],
           [
            0.8888888888888888,
            "#b5de2b"
           ],
           [
            1,
            "#fde725"
           ]
          ],
          "line": {
           "color": "white",
           "width": 2
          },
          "showscale": true,
          "size": 15
         },
         "mode": "markers+text",
         "name": "Cities",
         "text": [
          "1",
          "2",
          "3",
          "4",
          "5",
          "6",
          "7",
          "8",
          "9",
          "10",
          "11",
          "12",
          "13",
          "14",
          "15",
          "16",
          "17",
          "18",
          "19",
          "20"
         ],
         "textfont": {
          "color": "white",
          "size": 12
         },
         "textposition": "middle center",
         "type": "scatter",
         "x": {
          "bdata": "fDCpKCrK3z8qBd4FpbLBv2heJFDdueQ/K6oBjlRe+D9AplffvPjNvzvbcCYz+M2/CHRAqHRE+T/z1/BG047oP4ueeUveC96/fS1q4aZc4T9wG8Guoqjdv+fvFiuEzt2/cPmepZ74zj++Ne6+y5z+vxLk7nBDmfu/YzyhakL+4b95UaNnjjTwvx+GFtigHNQ/+wOLgYgO7b/IExTEy5j2vw==",
          "dtype": "f8"
         },
         "y": {
          "bdata": "QQ2fH0xz9z/ZmGbhPObMv8Y1sUaHSbE/YicNwcTL9r8o+spRlWvhvzUGMT9sZbw/FfXOPXhq8r/o3X2zbwvYP9I7PaFuOOO/oNLzQhyr0r+n/ak5LkHjv1f2GHPuov0/goOw1m6ki79EzIdLYuzwvzcuH7VJUuo/HHriWZOI87+1ae/SCrzKP8MwUA/PWv+//1qwA0BA9b9AOvS8vzLJPw==",
          "dtype": "f8"
         }
        }
       ],
       "layout": {
        "font": {
         "size": 14
        },
        "height": 600,
        "hovermode": "closest",
        "template": {
         "data": {
          "bar": [
           {
            "error_x": {
             "color": "#2a3f5f"
            },
            "error_y": {
             "color": "#2a3f5f"
            },
            "marker": {
             "line": {
              "color": "#E5ECF6",
              "width": 0.5
             },
             "pattern": {
              "fillmode": "overlay",
              "size": 10,
              "solidity": 0.2
             }
            },
            "type": "bar"
           }
          ],
          "barpolar": [
           {
            "marker": {
             "line": {
              "color": "#E5ECF6",
              "width": 0.5
             },
             "pattern": {
              "fillmode": "overlay",
              "size": 10,
              "solidity": 0.2
             }
            },
            "type": "barpolar"
           }
          ],
          "carpet": [
           {
            "aaxis": {
             "endlinecolor": "#2a3f5f",
             "gridcolor": "white",
             "linecolor": "white",
             "minorgridcolor": "white",
             "startlinecolor": "#2a3f5f"
            },
            "baxis": {
             "endlinecolor": "#2a3f5f",
             "gridcolor": "white",
             "linecolor": "white",
             "minorgridcolor": "white",
             "startlinecolor": "#2a3f5f"
            },
            "type": "carpet"
           }
          ],
          "choropleth": [
           {
            "colorbar": {
             "outlinewidth": 0,
             "ticks": ""
            },
            "type": "choropleth"
           }
          ],
          "contour": [
           {
            "colorbar": {
             "outlinewidth": 0,
             "ticks": ""
            },
            "colorscale": [
             [
              0,
              "#0d0887"
             ],
             [
              0.1111111111111111,
              "#46039f"
             ],
             [
              0.2222222222222222,
              "#7201a8"
             ],
             [
              0.3333333333333333,
              "#9c179e"
             ],
             [
              0.4444444444444444,
              "#bd3786"
             ],
             [
              0.5555555555555556,
              "#d8576b"
             ],
             [
              0.6666666666666666,
              "#ed7953"
             ],
             [
              0.7777777777777778,
              "#fb9f3a"
             ],
             [
              0.8888888888888888,
              "#fdca26"
             ],
             [
              1,
              "#f0f921"
             ]
            ],
            "type": "contour"
           }
          ],
          "contourcarpet": [
           {
            "colorbar": {
             "outlinewidth": 0,
             "ticks": ""
            },
            "type": "contourcarpet"
           }
          ],
          "heatmap": [
           {
            "colorbar": {
             "outlinewidth": 0,
             "ticks": ""
            },
            "colorscale": [
             [
              0,
              "#0d0887"
             ],
             [
              0.1111111111111111,
              "#46039f"
             ],
             [
              0.2222222222222222,
              "#7201a8"
             ],
             [
              0.3333333333333333,
              "#9c179e"
             ],
             [
              0.4444444444444444,
              "#bd3786"
             ],
             [
              0.5555555555555556,
              "#d8576b"
             ],
             [
              0.6666666666666666,
              "#ed7953"
             ],
             [
              0.7777777777777778,
              "#fb9f3a"
             ],
             [
              0.8888888888888888,
              "#fdca26"
             ],
             [
              1,
              "#f0f921"
             ]
            ],
            "type": "heatmap"
           }
          ],
          "histogram": [
           {
            "marker": {
             "pattern": {
              "fillmode": "overlay",
              "size": 10,
              "solidity": 0.2
             }
            },
            "type": "histogram"
           }
          ],
          "histogram2d": [
           {
            "colorbar": {
             "outlinewidth": 0,
             "ticks": ""
            },
            "colorscale": [
             [
              0,
              "#0d0887"
             ],
             [
              0.1111111111111111,
              "#46039f"
             ],
             [
              0.2222222222222222,
              "#7201a8"
             ],
             [
              0.3333333333333333,
              "#9c179e"
             ],
             [
              0.4444444444444444,
              "#bd3786"
             ],
             [
              0.5555555555555556,
              "#d8576b"
             ],
             [
              0.6666666666666666,
              "#ed7953"
             ],
             [
              0.7777777777777778,
              "#fb9f3a"
             ],
             [
              0.8888888888888888,
              "#fdca26"
             ],
             [
              1,
              "#f0f921"
             ]
            ],
            "type": "histogram2d"
           }
          ],
          "histogram2dcontour": [
           {
            "colorbar": {
             "outlinewidth": 0,
             "ticks": ""
            },
            "colorscale": [
             [
              0,
              "#0d0887"
             ],
             [
              0.1111111111111111,
              "#46039f"
             ],
             [
              0.2222222222222222,
              "#7201a8"
             ],
             [
              0.3333333333333333,
              "#9c179e"
             ],
             [
              0.4444444444444444,
              "#bd3786"
             ],
             [
              0.5555555555555556,
              "#d8576b"
             ],
             [
              0.6666666666666666,
              "#ed7953"
             ],
             [
              0.7777777777777778,
              "#fb9f3a"
             ],
             [
              0.8888888888888888,
              "#fdca26"
             ],
             [
              1,
              "#f0f921"
             ]
            ],
            "type": "histogram2dcontour"
           }
          ],
          "mesh3d": [
           {
            "colorbar": {
             "outlinewidth": 0,
             "ticks": ""
            },
            "type": "mesh3d"
           }
          ],
          "parcoords": [
           {
            "line": {
             "colorbar": {
              "outlinewidth": 0,
              "ticks": ""
             }
            },
            "type": "parcoords"
           }
          ],
          "pie": [
           {
            "automargin": true,
            "type": "pie"
           }
          ],
          "scatter": [
           {
            "fillpattern": {
             "fillmode": "overlay",
             "size": 10,
             "solidity": 0.2
            },
            "type": "scatter"
           }
          ],
          "scatter3d": [
           {
            "line": {
             "colorbar": {
              "outlinewidth": 0,
              "ticks": ""
             }
            },
            "marker": {
             "colorbar": {
              "outlinewidth": 0,
              "ticks": ""
             }
            },
            "type": "scatter3d"
           }
          ],
          "scattercarpet": [
           {
            "marker": {
             "colorbar": {
              "outlinewidth": 0,
              "ticks": ""
             }
            },
            "type": "scattercarpet"
           }
          ],
          "scattergeo": [
           {
            "marker": {
             "colorbar": {
              "outlinewidth": 0,
              "ticks": ""
             }
            },
            "type": "scattergeo"
           }
          ],
          "scattergl": [
           {
            "marker": {
             "colorbar": {
              "outlinewidth": 0,
              "ticks": ""
             }
            },
            "type": "scattergl"
           }
          ],
          "scattermap": [
           {
            "marker": {
             "colorbar": {
              "outlinewidth": 0,
              "ticks": ""
             }
            },
            "type": "scattermap"
           }
          ],
          "scattermapbox": [
           {
            "marker": {
             "colorbar": {
              "outlinewidth": 0,
              "ticks": ""
             }
            },
            "type": "scattermapbox"
           }
          ],
          "scatterpolar": [
           {
            "marker": {
             "colorbar": {
              "outlinewidth": 0,
              "ticks": ""
             }
            },
            "type": "scatterpolar"
           }
          ],
          "scatterpolargl": [
           {
            "marker": {
             "colorbar": {
              "outlinewidth": 0,
              "ticks": ""
             }
            },
            "type": "scatterpolargl"
           }
          ],
          "scatterternary": [
           {
            "marker": {
             "colorbar": {
              "outlinewidth": 0,
              "ticks": ""
             }
            },
            "type": "scatterternary"
           }
          ],
          "surface": [
           {
            "colorbar": {
             "outlinewidth": 0,
             "ticks": ""
            },
            "colorscale": [
             [
              0,
              "#0d0887"
             ],
             [
              0.1111111111111111,
              "#46039f"
             ],
             [
              0.2222222222222222,
              "#7201a8"
             ],
             [
              0.3333333333333333,
              "#9c179e"
             ],
             [
              0.4444444444444444,
              "#bd3786"
             ],
             [
              0.5555555555555556,
              "#d8576b"
             ],
             [
              0.6666666666666666,
              "#ed7953"
             ],
             [
              0.7777777777777778,
              "#fb9f3a"
             ],
             [
              0.8888888888888888,
              "#fdca26"
             ],
             [
              1,
              "#f0f921"
             ]
            ],
            "type": "surface"
           }
          ],
          "table": [
           {
            "cells": {
             "fill": {
              "color": "#EBF0F8"
             },
             "line": {
              "color": "white"
             }
            },
            "header": {
             "fill": {
              "color": "#C8D4E3"
             },
             "line": {
              "color": "white"
             }
            },
            "type": "table"
           }
          ]
         },
         "layout": {
          "annotationdefaults": {
           "arrowcolor": "#2a3f5f",
           "arrowhead": 0,
           "arrowwidth": 1
          },
          "autotypenumbers": "strict",
          "coloraxis": {
           "colorbar": {
            "outlinewidth": 0,
            "ticks": ""
           }
          },
          "colorscale": {
           "diverging": [
            [
             0,
             "#8e0152"
            ],
            [
             0.1,
             "#c51b7d"
            ],
            [
             0.2,
             "#de77ae"
            ],
            [
             0.3,
             "#f1b6da"
            ],
            [
             0.4,
             "#fde0ef"
            ],
            [
             0.5,
             "#f7f7f7"
            ],
            [
             0.6,
             "#e6f5d0"
            ],
            [
             0.7,
             "#b8e186"
            ],
            [
             0.8,
             "#7fbc41"
            ],
            [
             0.9,
             "#4d9221"
            ],
            [
             1,
             "#276419"
            ]
           ],
           "sequential": [
            [
             0,
             "#0d0887"
            ],
            [
             0.1111111111111111,
             "#46039f"
            ],
            [
             0.2222222222222222,
             "#7201a8"
            ],
            [
             0.3333333333333333,
             "#9c179e"
            ],
            [
             0.4444444444444444,
             "#bd3786"
            ],
            [
             0.5555555555555556,
             "#d8576b"
            ],
            [
             0.6666666666666666,
             "#ed7953"
            ],
            [
             0.7777777777777778,
             "#fb9f3a"
            ],
            [
             0.8888888888888888,
             "#fdca26"
            ],
            [
             1,
             "#f0f921"
            ]
           ],
           "sequentialminus": [
            [
             0,
             "#0d0887"
            ],
            [
             0.1111111111111111,
             "#46039f"
            ],
            [
             0.2222222222222222,
             "#7201a8"
            ],
            [
             0.3333333333333333,
             "#9c179e"
            ],
            [
             0.4444444444444444,
             "#bd3786"
            ],
            [
             0.5555555555555556,
             "#d8576b"
            ],
            [
             0.6666666666666666,
             "#ed7953"
            ],
            [
             0.7777777777777778,
             "#fb9f3a"
            ],
            [
             0.8888888888888888,
             "#fdca26"
            ],
            [
             1,
             "#f0f921"
            ]
           ]
          },
          "colorway": [
           "#636efa",
           "#EF553B",
           "#00cc96",
           "#ab63fa",
           "#FFA15A",
           "#19d3f3",
           "#FF6692",
           "#B6E880",
           "#FF97FF",
           "#FECB52"
          ],
          "font": {
           "color": "#2a3f5f"
          },
          "geo": {
           "bgcolor": "white",
           "lakecolor": "white",
           "landcolor": "#E5ECF6",
           "showlakes": true,
           "showland": true,
           "subunitcolor": "white"
          },
          "hoverlabel": {
           "align": "left"
          },
          "hovermode": "closest",
          "mapbox": {
           "style": "light"
          },
          "paper_bgcolor": "white",
          "plot_bgcolor": "#E5ECF6",
          "polar": {
           "angularaxis": {
            "gridcolor": "white",
            "linecolor": "white",
            "ticks": ""
           },
           "bgcolor": "#E5ECF6",
           "radialaxis": {
            "gridcolor": "white",
            "linecolor": "white",
            "ticks": ""
           }
          },
          "scene": {
           "xaxis": {
            "backgroundcolor": "#E5ECF6",
            "gridcolor": "white",
            "gridwidth": 2,
            "linecolor": "white",
            "showbackground": true,
            "ticks": "",
            "zerolinecolor": "white"
           },
           "yaxis": {
            "backgroundcolor": "#E5ECF6",
            "gridcolor": "white",
            "gridwidth": 2,
            "linecolor": "white",
            "showbackground": true,
            "ticks": "",
            "zerolinecolor": "white"
           },
           "zaxis": {
            "backgroundcolor": "#E5ECF6",
            "gridcolor": "white",
            "gridwidth": 2,
            "linecolor": "white",
            "showbackground": true,
            "ticks": "",
            "zerolinecolor": "white"
           }
          },
          "shapedefaults": {
           "line": {
            "color": "#2a3f5f"
           }
          },
          "ternary": {
           "aaxis": {
            "gridcolor": "white",
            "linecolor": "white",
            "ticks": ""
           },
           "baxis": {
            "gridcolor": "white",
            "linecolor": "white",
            "ticks": ""
           },
           "bgcolor": "#E5ECF6",
           "caxis": {
            "gridcolor": "white",
            "linecolor": "white",
            "ticks": ""
           }
          },
          "title": {
           "x": 0.05
          },
          "xaxis": {
           "automargin": true,
           "gridcolor": "white",
           "linecolor": "white",
           "ticks": "",
           "title": {
            "standoff": 15
           },
           "zerolinecolor": "white",
           "zerolinewidth": 2
          },
          "yaxis": {
           "automargin": true,
           "gridcolor": "white",
           "linecolor": "white",
           "ticks": "",
           "title": {
            "standoff": 15
           },
           "zerolinecolor": "white",
           "zerolinewidth": 2
          }
         }
        },
        "title": {
         "text": "Interactive City Population Plot (Hover for info!)"
        },
        "width": 900,
        "xaxis": {
         "title": {
          "text": "X Coordinate"
         }
        },
        "yaxis": {
         "title": {
          "text": "Y Coordinate"
         }
        }
       }
      }
     },
     "metadata": {},
     "output_type": "display_data"
    },
    {
     "name": "stdout",
     "output_type": "stream",
     "text": [
      "✅ Plotly plot created successfully!\n",
      "   Hover over points to see detailed information.\n",
      "\n",
      "======================================================================\n",
      "💡 SUMMARY:\n",
      "   Method 1: Static plot with all labels\n",
      "   Method 2: Click interaction (works in all environments)\n",
      "   Method 3: Data table for reference\n",
      "   Method 4: Plotly hover interaction (install: pip3 install plotly)\n",
      "======================================================================\n"
     ]
    }
   ],
   "source": [
    "# Simple interactive plot that works with Homebrew Python 3.13\n",
    "import matplotlib.pyplot as plt\n",
    "import numpy as np\n",
    "\n",
    "# Create sample data\n",
    "np.random.seed(42)\n",
    "n_points = 20\n",
    "x = np.random.randn(n_points)\n",
    "y = np.random.randn(n_points)\n",
    "\n",
    "# Create labels/information for each point\n",
    "cities = ['New York', 'Los Angeles', 'Chicago', 'Houston', 'Phoenix', \n",
    "          'Philadelphia', 'San Antonio', 'San Diego', 'Dallas', 'San Jose',\n",
    "          'Austin', 'Jacksonville', 'Fort Worth', 'Columbus', 'Charlotte',\n",
    "          'San Francisco', 'Indianapolis', 'Seattle', 'Denver', 'Boston']\n",
    "\n",
    "populations = [8336817, 3979576, 2693976, 2320268, 1680992, 1584064,\n",
    "               1547253, 1423851, 1343573, 1021795, 978908, 911507,\n",
    "               909585, 898553, 885708, 881549, 876384, 753675, 715522, 695506]\n",
    "\n",
    "# Method 1: Simple static plot with annotations\n",
    "print(\"Method 1: Static plot with all labels visible\")\n",
    "print(\"=\"*50)\n",
    "\n",
    "fig1, ax1 = plt.subplots(figsize=(12, 8))\n",
    "scatter1 = ax1.scatter(x, y, c=populations, cmap='viridis', s=100, alpha=0.7)\n",
    "\n",
    "# Add colorbar\n",
    "cbar1 = plt.colorbar(scatter1)\n",
    "cbar1.set_label('Population')\n",
    "\n",
    "# Add city labels (offset to avoid overlap)\n",
    "for i, city in enumerate(cities):\n",
    "    ax1.annotate(city, (x[i], y[i]), xytext=(5, 5), textcoords='offset points',\n",
    "                fontsize=8, alpha=0.8, bbox=dict(boxstyle=\"round,pad=0.3\", \n",
    "                facecolor='white', alpha=0.7))\n",
    "\n",
    "ax1.set_xlabel('X Coordinate')\n",
    "ax1.set_ylabel('Y Coordinate')\n",
    "ax1.set_title('City Population Plot - All Labels Visible')\n",
    "ax1.grid(True, alpha=0.3)\n",
    "plt.tight_layout()\n",
    "plt.show()\n",
    "\n",
    "print(\"\\n\" + \"=\"*50)\n",
    "print(\"Method 2: Click to reveal information\")\n",
    "print(\"=\"*50)\n",
    "\n",
    "# Method 2: Click-based interaction (works reliably)\n",
    "fig2, ax2 = plt.subplots(figsize=(12, 8))\n",
    "scatter2 = ax2.scatter(x, y, c=populations, cmap='viridis', s=120, alpha=0.7)\n",
    "\n",
    "# Add colorbar\n",
    "cbar2 = plt.colorbar(scatter2)\n",
    "cbar2.set_label('Population')\n",
    "\n",
    "# Add point numbers for reference\n",
    "for i in range(len(cities)):\n",
    "    ax2.annotate(str(i+1), (x[i], y[i]), ha='center', va='center', \n",
    "                fontsize=10, fontweight='bold', color='white')\n",
    "\n",
    "ax2.set_xlabel('X Coordinate')\n",
    "ax2.set_ylabel('Y Coordinate')\n",
    "ax2.set_title('Interactive City Plot - Click on numbered points!')\n",
    "ax2.grid(True, alpha=0.3)\n",
    "\n",
    "# Click handler\n",
    "def on_click(event):\n",
    "    if event.inaxes == ax2:\n",
    "        # Find the closest point to the click\n",
    "        distances = np.sqrt((x - event.xdata)**2 + (y - event.ydata)**2)\n",
    "        closest_idx = np.argmin(distances)\n",
    "        \n",
    "        # Only show info if click is reasonably close to a point\n",
    "        if distances[closest_idx] < 0.5:  # Adjust threshold as needed\n",
    "            print(f\"\\n🏙️  CITY INFO:\")\n",
    "            print(f\"   Name: {cities[closest_idx]}\")\n",
    "            print(f\"   Population: {populations[closest_idx]:,}\")\n",
    "            print(f\"   Coordinates: ({x[closest_idx]:.2f}, {y[closest_idx]:.2f})\")\n",
    "            print(f\"   Point #{closest_idx + 1}\")\n",
    "            print(\"-\" * 40)\n",
    "\n",
    "# Connect the click function\n",
    "fig2.canvas.mpl_connect('button_press_event', on_click)\n",
    "plt.tight_layout()\n",
    "plt.show()\n",
    "\n",
    "print(\"\\n📍 Click on any numbered point in the plot above to see city information!\")\n",
    "print(\"   The information will appear in this output area.\")\n",
    "\n",
    "# Method 3: Print all data for reference\n",
    "print(\"\\n\" + \"=\"*50)\n",
    "print(\"Method 3: Complete data reference\")\n",
    "print(\"=\"*50)\n",
    "\n",
    "print(f\"{'#':<3} {'City':<15} {'Population':<12} {'X':<8} {'Y':<8}\")\n",
    "print(\"-\" * 50)\n",
    "for i, (city, pop) in enumerate(zip(cities, populations)):\n",
    "    print(f\"{i+1:<3} {city:<15} {pop:<12,} {x[i]:<8.2f} {y[i]:<8.2f}\")\n",
    "\n",
    "# Method 4: Try Plotly if available (most robust for interactive plots)\n",
    "print(\"\\n\" + \"=\"*50)\n",
    "print(\"Method 4: Enhanced interactive plot with Plotly\")\n",
    "print(\"=\"*50)\n",
    "\n",
    "try:\n",
    "    import plotly.graph_objects as go\n",
    "    import plotly.offline as pyo\n",
    "    \n",
    "    # Create plotly figure\n",
    "    fig_plotly = go.Figure()\n",
    "    \n",
    "    fig_plotly.add_trace(go.Scatter(\n",
    "        x=x,\n",
    "        y=y,\n",
    "        mode='markers+text',\n",
    "        marker=dict(\n",
    "            size=15,\n",
    "            color=populations,\n",
    "            colorscale='viridis',\n",
    "            showscale=True,\n",
    "            colorbar=dict(title=\"Population\"),\n",
    "            line=dict(width=2, color='white')\n",
    "        ),\n",
    "        text=[str(i+1) for i in range(len(cities))],\n",
    "        textposition=\"middle center\",\n",
    "        textfont=dict(color=\"white\", size=12),\n",
    "        hovertext=[f'<b>{city}</b><br>Population: {pop:,}<br>Coordinates: ({x[i]:.2f}, {y[i]:.2f})<br>Point #{i+1}' \n",
    "                  for i, (city, pop) in enumerate(zip(cities, populations))],\n",
    "        hovertemplate='%{hovertext}<extra></extra>',\n",
    "        name='Cities'\n",
    "    ))\n",
    "    \n",
    "    fig_plotly.update_layout(\n",
    "        title='Interactive City Population Plot (Hover for info!)',\n",
    "        xaxis_title='X Coordinate',\n",
    "        yaxis_title='Y Coordinate',\n",
    "        hovermode='closest',\n",
    "        width=900,\n",
    "        height=600,\n",
    "        font=dict(size=14)\n",
    "    )\n",
    "    \n",
    "    # For Jupyter notebooks\n",
    "    fig_plotly.show()\n",
    "    \n",
    "    print(\"✅ Plotly plot created successfully!\")\n",
    "    print(\"   Hover over points to see detailed information.\")\n",
    "    \n",
    "except ImportError:\n",
    "    print(\"❌ Plotly not installed.\")\n",
    "    print(\"   Install with: pip3 install plotly\")\n",
    "    print(\"   Plotly provides the smoothest interactive experience!\")\n",
    "\n",
    "print(\"\\n\" + \"=\"*70)\n",
    "print(\"💡 SUMMARY:\")\n",
    "print(\"   Method 1: Static plot with all labels\")\n",
    "print(\"   Method 2: Click interaction (works in all environments)\")\n",
    "print(\"   Method 3: Data table for reference\")\n",
    "print(\"   Method 4: Plotly hover interaction (install: pip3 install plotly)\")\n",
    "print(\"=\"*70)"
   ]
  },
  {
   "cell_type": "code",
   "execution_count": 4,
   "metadata": {},
   "outputs": [
    {
     "data": {
      "application/vnd.jupyter.widget-view+json": {
       "model_id": "24ac837b3a2f4325afd3cf742ee89c37",
       "version_major": 2,
       "version_minor": 0
      },
      "text/plain": [
       "interactive(children=(FloatSlider(value=0.0, description='Phase:', max=6.283185307179586), Output()), _dom_cla…"
      ]
     },
     "metadata": {},
     "output_type": "display_data"
    },
    {
     "data": {
      "application/vnd.jupyter.widget-view+json": {
       "model_id": "8de3078406dd4970b33e0dbfb1a400c6",
       "version_major": 2,
       "version_minor": 0
      },
      "text/plain": [
       "FigureWidget({\n",
       "    'data': [{'mode': 'lines',\n",
       "              'type': 'scatter',\n",
       "              'uid': '4f2bd9ea-6a6b-4756-922f-e2671cf0e083',\n",
       "              'x': {'bdata': ('AAAAAAAAAAAxb2dIzNu5PzFvZ0jM28' ... '7OkJgjQCIxb2dIzCNAAAAAAAAAJEA='),\n",
       "                    'dtype': 'f8'},\n",
       "              'y': {'bdata': ('AAAAAAAAAABWWTD1i9C5P1FTX5rcrs' ... '3tlVXXvzzw4HCMOd2/Uk/z9Z5o4b8='),\n",
       "                    'dtype': 'f8'}}],\n",
       "    'layout': {'template': '...', 'title': {'text': 'Phase: 0.00'}}\n",
       "})"
      ]
     },
     "metadata": {},
     "output_type": "display_data"
    }
   ],
   "source": [
    "import ipywidgets as widgets\n",
    "import plotly.graph_objects as go\n",
    "from plotly.subplots import make_subplots\n",
    "import numpy as np\n",
    "\n",
    "# Create initial figure\n",
    "fig = go.FigureWidget()\n",
    "x = np.linspace(0, 10, 100)\n",
    "fig.add_trace(go.Scatter(x=x, y=np.sin(x), mode='lines'))\n",
    "\n",
    "def update_plot(phase):\n",
    "    with fig.batch_update():\n",
    "        fig.data[0].y = np.sin(x + phase)\n",
    "        fig.layout.title = f'Phase: {phase:.2f}'\n",
    "\n",
    "# Create slider\n",
    "slider = widgets.FloatSlider(\n",
    "    value=0,\n",
    "    min=0,\n",
    "    max=2*np.pi,\n",
    "    step=0.1,\n",
    "    description='Phase:'\n",
    ")\n",
    "\n",
    "# Connect slider to update function\n",
    "widgets.interact(update_plot, phase=slider)\n",
    "display(fig)"
   ]
  },
  {
   "cell_type": "code",
   "execution_count": null,
   "metadata": {},
   "outputs": [],
   "source": []
  }
 ],
 "metadata": {
  "kernelspec": {
   "display_name": "bio-nn",
   "language": "python",
   "name": "python3"
  },
  "language_info": {
   "codemirror_mode": {
    "name": "ipython",
    "version": 3
   },
   "file_extension": ".py",
   "mimetype": "text/x-python",
   "name": "python",
   "nbconvert_exporter": "python",
   "pygments_lexer": "ipython3",
   "version": "3.13.1"
  }
 },
 "nbformat": 4,
 "nbformat_minor": 2
}
